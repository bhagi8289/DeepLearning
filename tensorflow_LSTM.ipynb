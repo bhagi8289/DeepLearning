{
 "cells": [
  {
   "cell_type": "code",
   "execution_count": 1,
   "metadata": {},
   "outputs": [],
   "source": [
    "import numpy as np\n",
    "from tensorflow.keras.models import Sequential\n",
    "from tensorflow.keras.layers import Dense, Activation, Dropout, LSTM\n",
    "from tensorflow.keras.layers import Conv2D, MaxPooling2D, Flatten\n",
    "from tensorflow.keras.utils import to_categorical, plot_model\n",
    "from tensorflow.keras.datasets import mnist "
   ]
  },
  {
   "cell_type": "code",
   "execution_count": 2,
   "metadata": {},
   "outputs": [
    {
     "name": "stdout",
     "output_type": "stream",
     "text": [
      "(60000, 28, 28)\n"
     ]
    }
   ],
   "source": [
    "(x_train,y_train),(x_test,y_test) = mnist.load_data()\n",
    "print(x_train.shape)"
   ]
  },
  {
   "cell_type": "code",
   "execution_count": 3,
   "metadata": {},
   "outputs": [],
   "source": [
    "# number of labels\n",
    "num_labels = len(np.unique(y_train))"
   ]
  },
  {
   "cell_type": "code",
   "execution_count": 4,
   "metadata": {},
   "outputs": [],
   "source": [
    "# convert to one-hot vector\n",
    "y_train = to_categorical(y_train)\n",
    "y_test = to_categorical(y_test)"
   ]
  },
  {
   "cell_type": "code",
   "execution_count": 5,
   "metadata": {},
   "outputs": [],
   "source": [
    "# image dimension\n",
    "image_size = x_train.shape[1]\n"
   ]
  },
  {
   "cell_type": "code",
   "execution_count": 6,
   "metadata": {},
   "outputs": [
    {
     "name": "stdout",
     "output_type": "stream",
     "text": [
      "(60000, 28, 28)\n",
      "(10000, 28, 28)\n"
     ]
    }
   ],
   "source": [
    "#resize and normalize\n",
    "x_train = np.reshape(x_train,[-1,image_size,image_size])\n",
    "x_train = x_train.astype('float32') / 255\n",
    "x_test = np.reshape(x_test,[-1,image_size,image_size])\n",
    "x_test = x_test.astype('float32') / 255\n",
    "\n",
    "print(x_train.shape)\n",
    "print(x_test.shape)"
   ]
  },
  {
   "cell_type": "code",
   "execution_count": 7,
   "metadata": {},
   "outputs": [],
   "source": [
    "# network parameters\n",
    "input_shape = (image_size,image_size)\n",
    "batch_size = 128\n",
    "units = 256\n",
    "dropout = 0.2"
   ]
  },
  {
   "cell_type": "code",
   "execution_count": 8,
   "metadata": {},
   "outputs": [],
   "source": [
    "model = Sequential()"
   ]
  },
  {
   "cell_type": "code",
   "execution_count": 9,
   "metadata": {},
   "outputs": [],
   "source": [
    "model.add(LSTM(units=units, dropout=dropout, input_shape = input_shape))"
   ]
  },
  {
   "cell_type": "code",
   "execution_count": 10,
   "metadata": {},
   "outputs": [],
   "source": [
    "model.add(Dense(num_labels))"
   ]
  },
  {
   "cell_type": "code",
   "execution_count": 11,
   "metadata": {},
   "outputs": [],
   "source": [
    "model.add(Activation('softmax'))"
   ]
  },
  {
   "cell_type": "code",
   "execution_count": 12,
   "metadata": {},
   "outputs": [
    {
     "name": "stdout",
     "output_type": "stream",
     "text": [
      "Model: \"sequential\"\n",
      "_________________________________________________________________\n",
      "Layer (type)                 Output Shape              Param #   \n",
      "=================================================================\n",
      "lstm (LSTM)                  (None, 256)               291840    \n",
      "_________________________________________________________________\n",
      "dense (Dense)                (None, 10)                2570      \n",
      "_________________________________________________________________\n",
      "activation (Activation)      (None, 10)                0         \n",
      "=================================================================\n",
      "Total params: 294,410\n",
      "Trainable params: 294,410\n",
      "Non-trainable params: 0\n",
      "_________________________________________________________________\n"
     ]
    }
   ],
   "source": [
    "model.summary()"
   ]
  },
  {
   "cell_type": "code",
   "execution_count": 13,
   "metadata": {},
   "outputs": [
    {
     "data": {
      "image/png": "[encoded data removed]",
      "text/plain": [
       "<IPython.core.display.Image object>"
      ]
     },
     "execution_count": 13,
     "metadata": {},
     "output_type": "execute_result"
    }
   ],
   "source": [
    "plot_model(model,to_file='lstm-mnist.png',show_shapes = True)"
   ]
  },
  {
   "cell_type": "code",
   "execution_count": 14,
   "metadata": {},
   "outputs": [],
   "source": [
    "model.compile(loss = 'categorical_crossentropy',optimizer = 'sgd', metrics = ['accuracy'])"
   ]
  },
  {
   "cell_type": "code",
   "execution_count": 15,
   "metadata": {},
   "outputs": [
    {
     "name": "stdout",
     "output_type": "stream",
     "text": [
      "Epoch 1/20\n",
      "469/469 [==============================] - 76s 161ms/step - loss: 2.2316 - accuracy: 0.2451\n",
      "Epoch 2/20\n",
      "469/469 [==============================] - 79s 169ms/step - loss: 1.9036 - accuracy: 0.3519\n",
      "Epoch 3/20\n",
      "469/469 [==============================] - 78s 166ms/step - loss: 1.5419 - accuracy: 0.4881\n",
      "Epoch 4/20\n",
      "469/469 [==============================] - 76s 163ms/step - loss: 1.2231 - accuracy: 0.5912\n",
      "Epoch 5/20\n",
      "469/469 [==============================] - 74s 159ms/step - loss: 0.9738 - accuracy: 0.6716\n",
      "Epoch 6/20\n",
      "469/469 [==============================] - 74s 158ms/step - loss: 0.7938 - accuracy: 0.7347\n",
      "Epoch 7/20\n",
      "469/469 [==============================] - 74s 158ms/step - loss: 0.6621 - accuracy: 0.7847\n",
      "Epoch 8/20\n",
      "469/469 [==============================] - 73s 155ms/step - loss: 0.5483 - accuracy: 0.8232\n",
      "Epoch 9/20\n",
      "469/469 [==============================] - 74s 158ms/step - loss: 0.4623 - accuracy: 0.8523\n",
      "Epoch 10/20\n",
      "469/469 [==============================] - 73s 155ms/step - loss: 0.3960 - accuracy: 0.8727\n",
      "Epoch 11/20\n",
      "469/469 [==============================] - 74s 158ms/step - loss: 0.3385 - accuracy: 0.8924\n",
      "Epoch 12/20\n",
      "469/469 [==============================] - 75s 160ms/step - loss: 0.2934 - accuracy: 0.9085\n",
      "Epoch 13/20\n",
      "469/469 [==============================] - 73s 157ms/step - loss: 0.2642 - accuracy: 0.9170\n",
      "Epoch 14/20\n",
      "469/469 [==============================] - 74s 158ms/step - loss: 0.2373 - accuracy: 0.9250\n",
      "Epoch 15/20\n",
      "469/469 [==============================] - 73s 156ms/step - loss: 0.2203 - accuracy: 0.9304\n",
      "Epoch 16/20\n",
      "469/469 [==============================] - 74s 157ms/step - loss: 0.2039 - accuracy: 0.9359\n",
      "Epoch 17/20\n",
      "469/469 [==============================] - 77s 165ms/step - loss: 0.1872 - accuracy: 0.9417\n",
      "Epoch 18/20\n",
      "469/469 [==============================] - 73s 157ms/step - loss: 0.1756 - accuracy: 0.9454\n",
      "Epoch 19/20\n",
      "469/469 [==============================] - 73s 156ms/step - loss: 0.1693 - accuracy: 0.9474\n",
      "Epoch 20/20\n",
      "469/469 [==============================] - 73s 156ms/step - loss: 0.1581 - accuracy: 0.9510\n"
     ]
    },
    {
     "data": {
      "text/plain": [
       "<tensorflow.python.keras.callbacks.History at 0x7f947650c040>"
      ]
     },
     "execution_count": 15,
     "metadata": {},
     "output_type": "execute_result"
    }
   ],
   "source": [
    "model.fit(x_train,y_train,epochs = 20,batch_size=batch_size)"
   ]
  },
  {
   "cell_type": "code",
   "execution_count": 16,
   "metadata": {},
   "outputs": [
    {
     "name": "stdout",
     "output_type": "stream",
     "text": [
      "79/79 [==============================] - 5s 69ms/step - loss: 0.1215 - accuracy: 0.9617\n"
     ]
    }
   ],
   "source": [
    "_ , acc = model.evaluate(x_test,y_test,batch_size=batch_size,verbose=1)"
   ]
  },
  {
   "cell_type": "code",
   "execution_count": 17,
   "metadata": {},
   "outputs": [
    {
     "name": "stdout",
     "output_type": "stream",
     "text": [
      "Test Accuracy: 96.2%\n"
     ]
    }
   ],
   "source": [
    "print(\"Test Accuracy: %.1f%%\" %(100*acc))"
   ]
  },
  {
   "cell_type": "code",
   "execution_count": null,
   "metadata": {},
   "outputs": [],
   "source": []
  }
 ],
 "metadata": {
  "kernelspec": {
   "display_name": "Python 3",
   "language": "python",
   "name": "python3"
  },
  "language_info": {
   "codemirror_mode": {
    "name": "ipython",
    "version": 3
   },
   "file_extension": ".py",
   "mimetype": "text/x-python",
   "name": "python",
   "nbconvert_exporter": "python",
   "pygments_lexer": "ipython3",
   "version": "3.8.3"
  }
 },
 "nbformat": 4,
 "nbformat_minor": 4
}
